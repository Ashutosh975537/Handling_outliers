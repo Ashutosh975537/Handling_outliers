{
 "cells": [
  {
   "cell_type": "code",
   "execution_count": 1,
   "metadata": {},
   "outputs": [
    {
     "name": "stdout",
     "output_type": "stream",
     "text": [
      "Hello\n"
     ]
    }
   ],
   "source": [
    "print(\"Hello\")"
   ]
  },
  {
   "cell_type": "code",
   "execution_count": 2,
   "metadata": {},
   "outputs": [],
   "source": [
    "import numpy as np\n",
    "import pandas as pd "
   ]
  },
  {
   "cell_type": "code",
   "execution_count": 3,
   "metadata": {},
   "outputs": [],
   "source": [
    "from sklearn.model_selection import cross_val_score \n",
    "from sklearn.linear_model import LogisticRegression"
   ]
  },
  {
   "cell_type": "code",
   "execution_count": 4,
   "metadata": {},
   "outputs": [],
   "source": [
    "df = pd.read_csv('train.csv')[[\n",
    "    'Age','Parch','SibSp','Survived'\n",
    "]]"
   ]
  },
  {
   "cell_type": "code",
   "execution_count": 5,
   "metadata": {},
   "outputs": [
    {
     "data": {
      "text/html": [
       "<div>\n",
       "<style scoped>\n",
       "    .dataframe tbody tr th:only-of-type {\n",
       "        vertical-align: middle;\n",
       "    }\n",
       "\n",
       "    .dataframe tbody tr th {\n",
       "        vertical-align: top;\n",
       "    }\n",
       "\n",
       "    .dataframe thead th {\n",
       "        text-align: right;\n",
       "    }\n",
       "</style>\n",
       "<table border=\"1\" class=\"dataframe\">\n",
       "  <thead>\n",
       "    <tr style=\"text-align: right;\">\n",
       "      <th></th>\n",
       "      <th>Age</th>\n",
       "      <th>Parch</th>\n",
       "      <th>SibSp</th>\n",
       "      <th>Survived</th>\n",
       "    </tr>\n",
       "  </thead>\n",
       "  <tbody>\n",
       "    <tr>\n",
       "      <th>0</th>\n",
       "      <td>22.0</td>\n",
       "      <td>0</td>\n",
       "      <td>1</td>\n",
       "      <td>0</td>\n",
       "    </tr>\n",
       "    <tr>\n",
       "      <th>1</th>\n",
       "      <td>38.0</td>\n",
       "      <td>0</td>\n",
       "      <td>1</td>\n",
       "      <td>1</td>\n",
       "    </tr>\n",
       "    <tr>\n",
       "      <th>2</th>\n",
       "      <td>26.0</td>\n",
       "      <td>0</td>\n",
       "      <td>0</td>\n",
       "      <td>1</td>\n",
       "    </tr>\n",
       "    <tr>\n",
       "      <th>3</th>\n",
       "      <td>35.0</td>\n",
       "      <td>0</td>\n",
       "      <td>1</td>\n",
       "      <td>1</td>\n",
       "    </tr>\n",
       "    <tr>\n",
       "      <th>4</th>\n",
       "      <td>35.0</td>\n",
       "      <td>0</td>\n",
       "      <td>0</td>\n",
       "      <td>0</td>\n",
       "    </tr>\n",
       "  </tbody>\n",
       "</table>\n",
       "</div>"
      ],
      "text/plain": [
       "    Age  Parch  SibSp  Survived\n",
       "0  22.0      0      1         0\n",
       "1  38.0      0      1         1\n",
       "2  26.0      0      0         1\n",
       "3  35.0      0      1         1\n",
       "4  35.0      0      0         0"
      ]
     },
     "execution_count": 5,
     "metadata": {},
     "output_type": "execute_result"
    }
   ],
   "source": [
    "df.head()"
   ]
  },
  {
   "cell_type": "code",
   "execution_count": 6,
   "metadata": {},
   "outputs": [],
   "source": [
    "df.dropna(inplace=True)"
   ]
  },
  {
   "cell_type": "code",
   "execution_count": 7,
   "metadata": {},
   "outputs": [
    {
     "data": {
      "text/plain": [
       "(714, 4)"
      ]
     },
     "execution_count": 7,
     "metadata": {},
     "output_type": "execute_result"
    }
   ],
   "source": [
    "df.shape"
   ]
  },
  {
   "cell_type": "code",
   "execution_count": 8,
   "metadata": {},
   "outputs": [],
   "source": [
    "from sklearn.pipeline import Pipeline"
   ]
  },
  {
   "cell_type": "code",
   "execution_count": 9,
   "metadata": {},
   "outputs": [],
   "source": [
    "from sklearn.compose import ColumnTransformer"
   ]
  },
  {
   "cell_type": "code",
   "execution_count": 10,
   "metadata": {},
   "outputs": [],
   "source": [
    "from sklearn.preprocessing import StandardScaler"
   ]
  },
  {
   "cell_type": "code",
   "execution_count": 11,
   "metadata": {},
   "outputs": [
    {
     "data": {
      "text/plain": [
       "0      1\n",
       "1      1\n",
       "2      0\n",
       "3      1\n",
       "4      0\n",
       "      ..\n",
       "885    5\n",
       "886    0\n",
       "887    0\n",
       "889    0\n",
       "890    0\n",
       "Name: family, Length: 714, dtype: int64"
      ]
     },
     "execution_count": 11,
     "metadata": {},
     "output_type": "execute_result"
    }
   ],
   "source": [
    "df['family'] = df['SibSp'] + df['Parch']\n",
    "df['family']"
   ]
  },
  {
   "cell_type": "code",
   "execution_count": 12,
   "metadata": {},
   "outputs": [],
   "source": [
    "df.drop(columns = ['SibSp','Parch'],inplace=True)"
   ]
  },
  {
   "cell_type": "code",
   "execution_count": 13,
   "metadata": {},
   "outputs": [],
   "source": [
    "from sklearn.preprocessing import OrdinalEncoder"
   ]
  },
  {
   "cell_type": "code",
   "execution_count": 14,
   "metadata": {},
   "outputs": [
    {
     "data": {
      "text/plain": [
       "0      1\n",
       "1      1\n",
       "2      0\n",
       "3      1\n",
       "4      0\n",
       "      ..\n",
       "885    5\n",
       "886    0\n",
       "887    0\n",
       "889    0\n",
       "890    0\n",
       "Name: family, Length: 714, dtype: int64"
      ]
     },
     "execution_count": 14,
     "metadata": {},
     "output_type": "execute_result"
    }
   ],
   "source": [
    "df['family']"
   ]
  },
  {
   "cell_type": "code",
   "execution_count": 15,
   "metadata": {},
   "outputs": [],
   "source": [
    "from sklearn.model_selection import train_test_split"
   ]
  },
  {
   "cell_type": "code",
   "execution_count": 16,
   "metadata": {},
   "outputs": [],
   "source": [
    "x_train , x_test , y_train , y_test = train_test_split(df.drop(columns = ['Survived']),df['Survived'],test_size=0.2)"
   ]
  },
  {
   "cell_type": "code",
   "execution_count": 17,
   "metadata": {},
   "outputs": [
    {
     "data": {
      "text/html": [
       "<div>\n",
       "<style scoped>\n",
       "    .dataframe tbody tr th:only-of-type {\n",
       "        vertical-align: middle;\n",
       "    }\n",
       "\n",
       "    .dataframe tbody tr th {\n",
       "        vertical-align: top;\n",
       "    }\n",
       "\n",
       "    .dataframe thead th {\n",
       "        text-align: right;\n",
       "    }\n",
       "</style>\n",
       "<table border=\"1\" class=\"dataframe\">\n",
       "  <thead>\n",
       "    <tr style=\"text-align: right;\">\n",
       "      <th></th>\n",
       "      <th>Age</th>\n",
       "      <th>family</th>\n",
       "    </tr>\n",
       "  </thead>\n",
       "  <tbody>\n",
       "    <tr>\n",
       "      <th>331</th>\n",
       "      <td>45.5</td>\n",
       "      <td>0</td>\n",
       "    </tr>\n",
       "    <tr>\n",
       "      <th>805</th>\n",
       "      <td>31.0</td>\n",
       "      <td>0</td>\n",
       "    </tr>\n",
       "    <tr>\n",
       "      <th>519</th>\n",
       "      <td>32.0</td>\n",
       "      <td>0</td>\n",
       "    </tr>\n",
       "    <tr>\n",
       "      <th>788</th>\n",
       "      <td>1.0</td>\n",
       "      <td>3</td>\n",
       "    </tr>\n",
       "    <tr>\n",
       "      <th>371</th>\n",
       "      <td>18.0</td>\n",
       "      <td>1</td>\n",
       "    </tr>\n",
       "  </tbody>\n",
       "</table>\n",
       "</div>"
      ],
      "text/plain": [
       "      Age  family\n",
       "331  45.5       0\n",
       "805  31.0       0\n",
       "519  32.0       0\n",
       "788   1.0       3\n",
       "371  18.0       1"
      ]
     },
     "execution_count": 17,
     "metadata": {},
     "output_type": "execute_result"
    }
   ],
   "source": [
    "x_train.head()"
   ]
  },
  {
   "cell_type": "code",
   "execution_count": 18,
   "metadata": {},
   "outputs": [],
   "source": [
    "trf_1 = ColumnTransformer([\n",
    "    ('scaling',StandardScaler(),[0])\n",
    "    ],remainder='passthrough')"
   ]
  },
  {
   "cell_type": "code",
   "execution_count": 19,
   "metadata": {},
   "outputs": [],
   "source": [
    "train_new = trf_1.fit_transform(x_train)\n",
    "train_new = trf_1.transform(x_test)"
   ]
  },
  {
   "cell_type": "code",
   "execution_count": 20,
   "metadata": {},
   "outputs": [
    {
     "data": {
      "text/plain": [
       "array([[-1.43171746,  6.        ],\n",
       "       [-1.64102841,  6.        ],\n",
       "       [ 1.28932492,  1.        ],\n",
       "       [-1.92010968,  2.        ],\n",
       "       [ 0.10322952,  0.        ],\n",
       "       [-0.17585175,  0.        ],\n",
       "       [-1.08286587,  5.        ],\n",
       "       [ 0.73116238,  0.        ],\n",
       "       [ 0.17299984,  0.        ],\n",
       "       [ 0.45208111,  0.        ],\n",
       "       [-0.24562206,  0.        ],\n",
       "       [ 0.38231079,  1.        ],\n",
       "       [-0.8037846 ,  0.        ],\n",
       "       [-0.3851627 ,  0.        ],\n",
       "       [-2.00732258,  3.        ],\n",
       "       [-0.24562206,  0.        ],\n",
       "       [ 0.87070301,  0.        ],\n",
       "       [ 0.17299984,  1.        ],\n",
       "       [-0.8037846 ,  2.        ],\n",
       "       [-1.64102841,  1.        ],\n",
       "       [-1.29217683,  0.        ],\n",
       "       [-0.10608143,  0.        ],\n",
       "       [ 0.45208111,  3.        ],\n",
       "       [-0.8037846 ,  2.        ],\n",
       "       [-0.3851627 ,  0.        ],\n",
       "       [-1.5712581 ,  5.        ],\n",
       "       [-0.10608143,  0.        ],\n",
       "       [-0.10608143,  0.        ],\n",
       "       [ 0.0334592 ,  0.        ],\n",
       "       [-0.03631111,  0.        ],\n",
       "       [ 0.0334592 ,  0.        ],\n",
       "       [ 2.8242719 ,  0.        ],\n",
       "       [ 0.45208111,  0.        ],\n",
       "       [ 1.01024365,  1.        ],\n",
       "       [ 0.0334592 ,  0.        ],\n",
       "       [ 1.28932492,  0.        ],\n",
       "       [-0.52470333,  0.        ],\n",
       "       [ 0.10322952,  2.        ],\n",
       "       [ 1.35909524,  1.        ],\n",
       "       [ 0.76604754,  2.        ],\n",
       "       [ 1.08001397,  0.        ],\n",
       "       [ 0.0334592 ,  0.        ],\n",
       "       [ 1.70794682,  0.        ],\n",
       "       [-1.78056905,  2.        ],\n",
       "       [ 0.38231079,  1.        ],\n",
       "       [-0.10608143,  0.        ],\n",
       "       [ 0.38231079,  0.        ],\n",
       "       [-0.52470333,  0.        ],\n",
       "       [-0.45493302,  5.        ],\n",
       "       [ 2.40565   ,  5.        ],\n",
       "       [-0.52470333,  0.        ],\n",
       "       [ 0.10322952,  1.        ],\n",
       "       [-0.73401429,  0.        ],\n",
       "       [ 1.11489913,  0.        ],\n",
       "       [ 0.59162174,  0.        ],\n",
       "       [ 1.49863587,  0.        ],\n",
       "       [-1.78056905,  5.        ],\n",
       "       [ 0.31254047,  2.        ],\n",
       "       [-0.73401429,  0.        ],\n",
       "       [-0.45493302,  0.        ],\n",
       "       [-0.8037846 ,  0.        ],\n",
       "       [ 0.31254047,  0.        ],\n",
       "       [-0.59447365,  0.        ],\n",
       "       [-0.03631111,  1.        ],\n",
       "       [-0.52470333,  0.        ],\n",
       "       [ 1.42886555,  1.        ],\n",
       "       [ 0.66139206,  5.        ],\n",
       "       [ 1.98702809,  2.        ],\n",
       "       [-0.03631111,  0.        ],\n",
       "       [ 0.52185143,  2.        ],\n",
       "       [-0.52470333,  0.        ],\n",
       "       [ 1.2195546 ,  1.        ],\n",
       "       [-0.31539238,  0.        ],\n",
       "       [ 1.08001397,  1.        ],\n",
       "       [ 0.52185143,  0.        ],\n",
       "       [-0.59447365,  0.        ],\n",
       "       [-1.98988   ,  7.        ],\n",
       "       [ 2.54519063,  0.        ],\n",
       "       [ 1.77771714,  0.        ],\n",
       "       [ 0.66139206,  0.        ],\n",
       "       [-0.17585175,  0.        ],\n",
       "       [-0.31539238,  3.        ],\n",
       "       [-1.85033937,  3.        ],\n",
       "       [ 1.70794682,  1.        ],\n",
       "       [-0.10608143,  1.        ],\n",
       "       [-0.3851627 ,  2.        ],\n",
       "       [-0.03631111,  0.        ],\n",
       "       [-0.17585175,  2.        ],\n",
       "       [-0.73401429,  0.        ],\n",
       "       [ 0.45208111,  0.        ],\n",
       "       [ 1.49863587,  1.        ],\n",
       "       [-0.31539238,  0.        ],\n",
       "       [ 1.2195546 ,  0.        ],\n",
       "       [-0.66424397,  0.        ],\n",
       "       [ 1.98702809,  0.        ],\n",
       "       [ 0.10322952,  1.        ],\n",
       "       [-1.43171746,  5.        ],\n",
       "       [ 0.66139206,  0.        ],\n",
       "       [-2.00174096,  2.        ],\n",
       "       [-0.03631111,  0.        ],\n",
       "       [-1.92010968,  6.        ],\n",
       "       [-0.52470333,  0.        ],\n",
       "       [-0.17585175,  1.        ],\n",
       "       [ 0.87070301,  1.        ],\n",
       "       [ 0.10322952,  0.        ],\n",
       "       [ 2.12656873,  1.        ],\n",
       "       [-0.87355492,  0.        ],\n",
       "       [ 0.45208111,  0.        ],\n",
       "       [ 1.35909524,  1.        ],\n",
       "       [-0.8037846 ,  1.        ],\n",
       "       [ 0.10322952,  2.        ],\n",
       "       [-0.73401429,  0.        ],\n",
       "       [ 1.98702809,  0.        ],\n",
       "       [-0.03631111,  0.        ],\n",
       "       [-1.08286587,  1.        ],\n",
       "       [ 2.12656873,  2.        ],\n",
       "       [-0.35027754,  0.        ],\n",
       "       [ 0.0334592 ,  0.        ],\n",
       "       [-0.94332524,  2.        ],\n",
       "       [-0.24562206,  0.        ],\n",
       "       [-0.17585175,  0.        ],\n",
       "       [ 0.73116238,  0.        ],\n",
       "       [ 0.66139206,  0.        ],\n",
       "       [-1.99546163,  3.        ],\n",
       "       [-0.3851627 ,  3.        ],\n",
       "       [-0.87355492,  0.        ],\n",
       "       [-0.17585175,  0.        ],\n",
       "       [-0.87355492,  0.        ],\n",
       "       [ 2.12656873,  0.        ],\n",
       "       [-0.17585175,  0.        ],\n",
       "       [ 1.01024365,  1.        ],\n",
       "       [-0.87355492,  1.        ],\n",
       "       [-0.94332524,  0.        ],\n",
       "       [ 1.84748746,  0.        ],\n",
       "       [ 0.0334592 ,  0.        ],\n",
       "       [-1.85033937,  6.        ],\n",
       "       [-0.17585175,  1.        ],\n",
       "       [ 0.45208111,  0.        ],\n",
       "       [ 1.56840619,  1.        ],\n",
       "       [ 1.2195546 ,  0.        ],\n",
       "       [ 0.66139206,  0.        ],\n",
       "       [ 1.28932492,  1.        ],\n",
       "       [-0.10608143,  0.        ]])"
      ]
     },
     "execution_count": 20,
     "metadata": {},
     "output_type": "execute_result"
    }
   ],
   "source": [
    "train_new"
   ]
  },
  {
   "cell_type": "code",
   "execution_count": 21,
   "metadata": {},
   "outputs": [],
   "source": [
    "def categorize(family_size):\n",
    "    if family_size > 4:\n",
    "        return 'large'\n",
    "    elif family_size  > 2 :\n",
    "        return 'small'\n",
    "    return 'alone'\n",
    "new_df = df['family'].apply(categorize)\n"
   ]
  },
  {
   "cell_type": "code",
   "execution_count": 22,
   "metadata": {},
   "outputs": [],
   "source": [
    "vectorized_categorize = np.vectorize(categorize)\n"
   ]
  },
  {
   "cell_type": "code",
   "execution_count": 23,
   "metadata": {},
   "outputs": [],
   "source": [
    "from sklearn.preprocessing import FunctionTransformer"
   ]
  },
  {
   "cell_type": "code",
   "execution_count": 24,
   "metadata": {},
   "outputs": [
    {
     "data": {
      "text/html": [
       "<div>\n",
       "<style scoped>\n",
       "    .dataframe tbody tr th:only-of-type {\n",
       "        vertical-align: middle;\n",
       "    }\n",
       "\n",
       "    .dataframe tbody tr th {\n",
       "        vertical-align: top;\n",
       "    }\n",
       "\n",
       "    .dataframe thead th {\n",
       "        text-align: right;\n",
       "    }\n",
       "</style>\n",
       "<table border=\"1\" class=\"dataframe\">\n",
       "  <thead>\n",
       "    <tr style=\"text-align: right;\">\n",
       "      <th></th>\n",
       "      <th>Age</th>\n",
       "      <th>Survived</th>\n",
       "      <th>family</th>\n",
       "    </tr>\n",
       "  </thead>\n",
       "  <tbody>\n",
       "    <tr>\n",
       "      <th>0</th>\n",
       "      <td>22.0</td>\n",
       "      <td>0</td>\n",
       "      <td>1</td>\n",
       "    </tr>\n",
       "    <tr>\n",
       "      <th>1</th>\n",
       "      <td>38.0</td>\n",
       "      <td>1</td>\n",
       "      <td>1</td>\n",
       "    </tr>\n",
       "    <tr>\n",
       "      <th>2</th>\n",
       "      <td>26.0</td>\n",
       "      <td>1</td>\n",
       "      <td>0</td>\n",
       "    </tr>\n",
       "    <tr>\n",
       "      <th>3</th>\n",
       "      <td>35.0</td>\n",
       "      <td>1</td>\n",
       "      <td>1</td>\n",
       "    </tr>\n",
       "    <tr>\n",
       "      <th>4</th>\n",
       "      <td>35.0</td>\n",
       "      <td>0</td>\n",
       "      <td>0</td>\n",
       "    </tr>\n",
       "  </tbody>\n",
       "</table>\n",
       "</div>"
      ],
      "text/plain": [
       "    Age  Survived  family\n",
       "0  22.0         0       1\n",
       "1  38.0         1       1\n",
       "2  26.0         1       0\n",
       "3  35.0         1       1\n",
       "4  35.0         0       0"
      ]
     },
     "execution_count": 24,
     "metadata": {},
     "output_type": "execute_result"
    }
   ],
   "source": [
    "df.head()"
   ]
  },
  {
   "cell_type": "code",
   "execution_count": 25,
   "metadata": {},
   "outputs": [
    {
     "data": {
      "text/plain": [
       "array([[-1.43171746,  6.        ],\n",
       "       [-1.64102841,  6.        ],\n",
       "       [ 1.28932492,  1.        ],\n",
       "       [-1.92010968,  2.        ],\n",
       "       [ 0.10322952,  0.        ],\n",
       "       [-0.17585175,  0.        ],\n",
       "       [-1.08286587,  5.        ],\n",
       "       [ 0.73116238,  0.        ],\n",
       "       [ 0.17299984,  0.        ],\n",
       "       [ 0.45208111,  0.        ],\n",
       "       [-0.24562206,  0.        ],\n",
       "       [ 0.38231079,  1.        ],\n",
       "       [-0.8037846 ,  0.        ],\n",
       "       [-0.3851627 ,  0.        ],\n",
       "       [-2.00732258,  3.        ],\n",
       "       [-0.24562206,  0.        ],\n",
       "       [ 0.87070301,  0.        ],\n",
       "       [ 0.17299984,  1.        ],\n",
       "       [-0.8037846 ,  2.        ],\n",
       "       [-1.64102841,  1.        ],\n",
       "       [-1.29217683,  0.        ],\n",
       "       [-0.10608143,  0.        ],\n",
       "       [ 0.45208111,  3.        ],\n",
       "       [-0.8037846 ,  2.        ],\n",
       "       [-0.3851627 ,  0.        ],\n",
       "       [-1.5712581 ,  5.        ],\n",
       "       [-0.10608143,  0.        ],\n",
       "       [-0.10608143,  0.        ],\n",
       "       [ 0.0334592 ,  0.        ],\n",
       "       [-0.03631111,  0.        ],\n",
       "       [ 0.0334592 ,  0.        ],\n",
       "       [ 2.8242719 ,  0.        ],\n",
       "       [ 0.45208111,  0.        ],\n",
       "       [ 1.01024365,  1.        ],\n",
       "       [ 0.0334592 ,  0.        ],\n",
       "       [ 1.28932492,  0.        ],\n",
       "       [-0.52470333,  0.        ],\n",
       "       [ 0.10322952,  2.        ],\n",
       "       [ 1.35909524,  1.        ],\n",
       "       [ 0.76604754,  2.        ],\n",
       "       [ 1.08001397,  0.        ],\n",
       "       [ 0.0334592 ,  0.        ],\n",
       "       [ 1.70794682,  0.        ],\n",
       "       [-1.78056905,  2.        ],\n",
       "       [ 0.38231079,  1.        ],\n",
       "       [-0.10608143,  0.        ],\n",
       "       [ 0.38231079,  0.        ],\n",
       "       [-0.52470333,  0.        ],\n",
       "       [-0.45493302,  5.        ],\n",
       "       [ 2.40565   ,  5.        ],\n",
       "       [-0.52470333,  0.        ],\n",
       "       [ 0.10322952,  1.        ],\n",
       "       [-0.73401429,  0.        ],\n",
       "       [ 1.11489913,  0.        ],\n",
       "       [ 0.59162174,  0.        ],\n",
       "       [ 1.49863587,  0.        ],\n",
       "       [-1.78056905,  5.        ],\n",
       "       [ 0.31254047,  2.        ],\n",
       "       [-0.73401429,  0.        ],\n",
       "       [-0.45493302,  0.        ],\n",
       "       [-0.8037846 ,  0.        ],\n",
       "       [ 0.31254047,  0.        ],\n",
       "       [-0.59447365,  0.        ],\n",
       "       [-0.03631111,  1.        ],\n",
       "       [-0.52470333,  0.        ],\n",
       "       [ 1.42886555,  1.        ],\n",
       "       [ 0.66139206,  5.        ],\n",
       "       [ 1.98702809,  2.        ],\n",
       "       [-0.03631111,  0.        ],\n",
       "       [ 0.52185143,  2.        ],\n",
       "       [-0.52470333,  0.        ],\n",
       "       [ 1.2195546 ,  1.        ],\n",
       "       [-0.31539238,  0.        ],\n",
       "       [ 1.08001397,  1.        ],\n",
       "       [ 0.52185143,  0.        ],\n",
       "       [-0.59447365,  0.        ],\n",
       "       [-1.98988   ,  7.        ],\n",
       "       [ 2.54519063,  0.        ],\n",
       "       [ 1.77771714,  0.        ],\n",
       "       [ 0.66139206,  0.        ],\n",
       "       [-0.17585175,  0.        ],\n",
       "       [-0.31539238,  3.        ],\n",
       "       [-1.85033937,  3.        ],\n",
       "       [ 1.70794682,  1.        ],\n",
       "       [-0.10608143,  1.        ],\n",
       "       [-0.3851627 ,  2.        ],\n",
       "       [-0.03631111,  0.        ],\n",
       "       [-0.17585175,  2.        ],\n",
       "       [-0.73401429,  0.        ],\n",
       "       [ 0.45208111,  0.        ],\n",
       "       [ 1.49863587,  1.        ],\n",
       "       [-0.31539238,  0.        ],\n",
       "       [ 1.2195546 ,  0.        ],\n",
       "       [-0.66424397,  0.        ],\n",
       "       [ 1.98702809,  0.        ],\n",
       "       [ 0.10322952,  1.        ],\n",
       "       [-1.43171746,  5.        ],\n",
       "       [ 0.66139206,  0.        ],\n",
       "       [-2.00174096,  2.        ],\n",
       "       [-0.03631111,  0.        ],\n",
       "       [-1.92010968,  6.        ],\n",
       "       [-0.52470333,  0.        ],\n",
       "       [-0.17585175,  1.        ],\n",
       "       [ 0.87070301,  1.        ],\n",
       "       [ 0.10322952,  0.        ],\n",
       "       [ 2.12656873,  1.        ],\n",
       "       [-0.87355492,  0.        ],\n",
       "       [ 0.45208111,  0.        ],\n",
       "       [ 1.35909524,  1.        ],\n",
       "       [-0.8037846 ,  1.        ],\n",
       "       [ 0.10322952,  2.        ],\n",
       "       [-0.73401429,  0.        ],\n",
       "       [ 1.98702809,  0.        ],\n",
       "       [-0.03631111,  0.        ],\n",
       "       [-1.08286587,  1.        ],\n",
       "       [ 2.12656873,  2.        ],\n",
       "       [-0.35027754,  0.        ],\n",
       "       [ 0.0334592 ,  0.        ],\n",
       "       [-0.94332524,  2.        ],\n",
       "       [-0.24562206,  0.        ],\n",
       "       [-0.17585175,  0.        ],\n",
       "       [ 0.73116238,  0.        ],\n",
       "       [ 0.66139206,  0.        ],\n",
       "       [-1.99546163,  3.        ],\n",
       "       [-0.3851627 ,  3.        ],\n",
       "       [-0.87355492,  0.        ],\n",
       "       [-0.17585175,  0.        ],\n",
       "       [-0.87355492,  0.        ],\n",
       "       [ 2.12656873,  0.        ],\n",
       "       [-0.17585175,  0.        ],\n",
       "       [ 1.01024365,  1.        ],\n",
       "       [-0.87355492,  1.        ],\n",
       "       [-0.94332524,  0.        ],\n",
       "       [ 1.84748746,  0.        ],\n",
       "       [ 0.0334592 ,  0.        ],\n",
       "       [-1.85033937,  6.        ],\n",
       "       [-0.17585175,  1.        ],\n",
       "       [ 0.45208111,  0.        ],\n",
       "       [ 1.56840619,  1.        ],\n",
       "       [ 1.2195546 ,  0.        ],\n",
       "       [ 0.66139206,  0.        ],\n",
       "       [ 1.28932492,  1.        ],\n",
       "       [-0.10608143,  0.        ]])"
      ]
     },
     "execution_count": 25,
     "metadata": {},
     "output_type": "execute_result"
    }
   ],
   "source": [
    "train_new"
   ]
  },
  {
   "cell_type": "code",
   "execution_count": 26,
   "metadata": {},
   "outputs": [
    {
     "data": {
      "text/plain": [
       "0      alone\n",
       "1      alone\n",
       "2      alone\n",
       "3      alone\n",
       "4      alone\n",
       "       ...  \n",
       "885    large\n",
       "886    alone\n",
       "887    alone\n",
       "889    alone\n",
       "890    alone\n",
       "Name: family, Length: 714, dtype: object"
      ]
     },
     "execution_count": 26,
     "metadata": {},
     "output_type": "execute_result"
    }
   ],
   "source": [
    "new_df"
   ]
  },
  {
   "cell_type": "code",
   "execution_count": 29,
   "metadata": {},
   "outputs": [],
   "source": [
    "import datetime"
   ]
  },
  {
   "cell_type": "code",
   "execution_count": null,
   "metadata": {},
   "outputs": [],
   "source": []
  },
  {
   "cell_type": "code",
   "execution_count": null,
   "metadata": {},
   "outputs": [],
   "source": [
    "preprocessing = ColumnTransformer([\n",
    "    ('scaling',StandardScaler(),[0]),\n",
    "    ('categorize',FunctionTransformer(func=vectorized_categorize),[1]),\n",
    "    ('Ordinal_encoding', OrdinalEncoder(categories=[['large', 'small', 'alone']]), [1])\n",
    "],remainder='passthrough')"
   ]
  },
  {
   "cell_type": "code",
   "execution_count": 28,
   "metadata": {},
   "outputs": [
    {
     "ename": "ValueError",
     "evalue": "invalid literal for int() with base 10: 'large'",
     "output_type": "error",
     "traceback": [
      "\u001b[31m---------------------------------------------------------------------------\u001b[39m",
      "\u001b[31mValueError\u001b[39m                                Traceback (most recent call last)",
      "\u001b[36mCell\u001b[39m\u001b[36m \u001b[39m\u001b[32mIn[28]\u001b[39m\u001b[32m, line 1\u001b[39m\n\u001b[32m----> \u001b[39m\u001b[32m1\u001b[39m x_train_new = \u001b[43mpreprocessing\u001b[49m\u001b[43m.\u001b[49m\u001b[43mfit_transform\u001b[49m\u001b[43m(\u001b[49m\u001b[43mx_train\u001b[49m\u001b[43m)\u001b[49m\n",
      "\u001b[36mFile \u001b[39m\u001b[32md:\\MachineLearning\\HandlingOutliers\\outlier-env\\Lib\\site-packages\\sklearn\\utils\\_set_output.py:319\u001b[39m, in \u001b[36m_wrap_method_output.<locals>.wrapped\u001b[39m\u001b[34m(self, X, *args, **kwargs)\u001b[39m\n\u001b[32m    317\u001b[39m \u001b[38;5;129m@wraps\u001b[39m(f)\n\u001b[32m    318\u001b[39m \u001b[38;5;28;01mdef\u001b[39;00m\u001b[38;5;250m \u001b[39m\u001b[34mwrapped\u001b[39m(\u001b[38;5;28mself\u001b[39m, X, *args, **kwargs):\n\u001b[32m--> \u001b[39m\u001b[32m319\u001b[39m     data_to_wrap = \u001b[43mf\u001b[49m\u001b[43m(\u001b[49m\u001b[38;5;28;43mself\u001b[39;49m\u001b[43m,\u001b[49m\u001b[43m \u001b[49m\u001b[43mX\u001b[49m\u001b[43m,\u001b[49m\u001b[43m \u001b[49m\u001b[43m*\u001b[49m\u001b[43margs\u001b[49m\u001b[43m,\u001b[49m\u001b[43m \u001b[49m\u001b[43m*\u001b[49m\u001b[43m*\u001b[49m\u001b[43mkwargs\u001b[49m\u001b[43m)\u001b[49m\n\u001b[32m    320\u001b[39m     \u001b[38;5;28;01mif\u001b[39;00m \u001b[38;5;28misinstance\u001b[39m(data_to_wrap, \u001b[38;5;28mtuple\u001b[39m):\n\u001b[32m    321\u001b[39m         \u001b[38;5;66;03m# only wrap the first output for cross decomposition\u001b[39;00m\n\u001b[32m    322\u001b[39m         return_tuple = (\n\u001b[32m    323\u001b[39m             _wrap_data_with_container(method, data_to_wrap[\u001b[32m0\u001b[39m], X, \u001b[38;5;28mself\u001b[39m),\n\u001b[32m    324\u001b[39m             *data_to_wrap[\u001b[32m1\u001b[39m:],\n\u001b[32m    325\u001b[39m         )\n",
      "\u001b[36mFile \u001b[39m\u001b[32md:\\MachineLearning\\HandlingOutliers\\outlier-env\\Lib\\site-packages\\sklearn\\base.py:1389\u001b[39m, in \u001b[36m_fit_context.<locals>.decorator.<locals>.wrapper\u001b[39m\u001b[34m(estimator, *args, **kwargs)\u001b[39m\n\u001b[32m   1382\u001b[39m     estimator._validate_params()\n\u001b[32m   1384\u001b[39m \u001b[38;5;28;01mwith\u001b[39;00m config_context(\n\u001b[32m   1385\u001b[39m     skip_parameter_validation=(\n\u001b[32m   1386\u001b[39m         prefer_skip_nested_validation \u001b[38;5;129;01mor\u001b[39;00m global_skip_validation\n\u001b[32m   1387\u001b[39m     )\n\u001b[32m   1388\u001b[39m ):\n\u001b[32m-> \u001b[39m\u001b[32m1389\u001b[39m     \u001b[38;5;28;01mreturn\u001b[39;00m \u001b[43mfit_method\u001b[49m\u001b[43m(\u001b[49m\u001b[43mestimator\u001b[49m\u001b[43m,\u001b[49m\u001b[43m \u001b[49m\u001b[43m*\u001b[49m\u001b[43margs\u001b[49m\u001b[43m,\u001b[49m\u001b[43m \u001b[49m\u001b[43m*\u001b[49m\u001b[43m*\u001b[49m\u001b[43mkwargs\u001b[49m\u001b[43m)\u001b[49m\n",
      "\u001b[36mFile \u001b[39m\u001b[32md:\\MachineLearning\\HandlingOutliers\\outlier-env\\Lib\\site-packages\\sklearn\\compose\\_column_transformer.py:1001\u001b[39m, in \u001b[36mColumnTransformer.fit_transform\u001b[39m\u001b[34m(self, X, y, **params)\u001b[39m\n\u001b[32m    998\u001b[39m \u001b[38;5;28;01melse\u001b[39;00m:\n\u001b[32m    999\u001b[39m     routed_params = \u001b[38;5;28mself\u001b[39m._get_empty_routing()\n\u001b[32m-> \u001b[39m\u001b[32m1001\u001b[39m result = \u001b[38;5;28;43mself\u001b[39;49m\u001b[43m.\u001b[49m\u001b[43m_call_func_on_transformers\u001b[49m\u001b[43m(\u001b[49m\n\u001b[32m   1002\u001b[39m \u001b[43m    \u001b[49m\u001b[43mX\u001b[49m\u001b[43m,\u001b[49m\n\u001b[32m   1003\u001b[39m \u001b[43m    \u001b[49m\u001b[43my\u001b[49m\u001b[43m,\u001b[49m\n\u001b[32m   1004\u001b[39m \u001b[43m    \u001b[49m\u001b[43m_fit_transform_one\u001b[49m\u001b[43m,\u001b[49m\n\u001b[32m   1005\u001b[39m \u001b[43m    \u001b[49m\u001b[43mcolumn_as_labels\u001b[49m\u001b[43m=\u001b[49m\u001b[38;5;28;43;01mFalse\u001b[39;49;00m\u001b[43m,\u001b[49m\n\u001b[32m   1006\u001b[39m \u001b[43m    \u001b[49m\u001b[43mrouted_params\u001b[49m\u001b[43m=\u001b[49m\u001b[43mrouted_params\u001b[49m\u001b[43m,\u001b[49m\n\u001b[32m   1007\u001b[39m \u001b[43m\u001b[49m\u001b[43m)\u001b[49m\n\u001b[32m   1009\u001b[39m \u001b[38;5;28;01mif\u001b[39;00m \u001b[38;5;129;01mnot\u001b[39;00m result:\n\u001b[32m   1010\u001b[39m     \u001b[38;5;28mself\u001b[39m._update_fitted_transformers([])\n",
      "\u001b[36mFile \u001b[39m\u001b[32md:\\MachineLearning\\HandlingOutliers\\outlier-env\\Lib\\site-packages\\sklearn\\compose\\_column_transformer.py:910\u001b[39m, in \u001b[36mColumnTransformer._call_func_on_transformers\u001b[39m\u001b[34m(self, X, y, func, column_as_labels, routed_params)\u001b[39m\n\u001b[32m    898\u001b[39m             extra_args = {}\n\u001b[32m    899\u001b[39m         jobs.append(\n\u001b[32m    900\u001b[39m             delayed(func)(\n\u001b[32m    901\u001b[39m                 transformer=clone(trans) \u001b[38;5;28;01mif\u001b[39;00m \u001b[38;5;129;01mnot\u001b[39;00m fitted \u001b[38;5;28;01melse\u001b[39;00m trans,\n\u001b[32m   (...)\u001b[39m\u001b[32m    907\u001b[39m             )\n\u001b[32m    908\u001b[39m         )\n\u001b[32m--> \u001b[39m\u001b[32m910\u001b[39m     \u001b[38;5;28;01mreturn\u001b[39;00m \u001b[43mParallel\u001b[49m\u001b[43m(\u001b[49m\u001b[43mn_jobs\u001b[49m\u001b[43m=\u001b[49m\u001b[38;5;28;43mself\u001b[39;49m\u001b[43m.\u001b[49m\u001b[43mn_jobs\u001b[49m\u001b[43m)\u001b[49m\u001b[43m(\u001b[49m\u001b[43mjobs\u001b[49m\u001b[43m)\u001b[49m\n\u001b[32m    912\u001b[39m \u001b[38;5;28;01mexcept\u001b[39;00m \u001b[38;5;167;01mValueError\u001b[39;00m \u001b[38;5;28;01mas\u001b[39;00m e:\n\u001b[32m    913\u001b[39m     \u001b[38;5;28;01mif\u001b[39;00m \u001b[33m\"\u001b[39m\u001b[33mExpected 2D array, got 1D array instead\u001b[39m\u001b[33m\"\u001b[39m \u001b[38;5;129;01min\u001b[39;00m \u001b[38;5;28mstr\u001b[39m(e):\n",
      "\u001b[36mFile \u001b[39m\u001b[32md:\\MachineLearning\\HandlingOutliers\\outlier-env\\Lib\\site-packages\\sklearn\\utils\\parallel.py:77\u001b[39m, in \u001b[36mParallel.__call__\u001b[39m\u001b[34m(self, iterable)\u001b[39m\n\u001b[32m     72\u001b[39m config = get_config()\n\u001b[32m     73\u001b[39m iterable_with_config = (\n\u001b[32m     74\u001b[39m     (_with_config(delayed_func, config), args, kwargs)\n\u001b[32m     75\u001b[39m     \u001b[38;5;28;01mfor\u001b[39;00m delayed_func, args, kwargs \u001b[38;5;129;01min\u001b[39;00m iterable\n\u001b[32m     76\u001b[39m )\n\u001b[32m---> \u001b[39m\u001b[32m77\u001b[39m \u001b[38;5;28;01mreturn\u001b[39;00m \u001b[38;5;28;43msuper\u001b[39;49m\u001b[43m(\u001b[49m\u001b[43m)\u001b[49m\u001b[43m.\u001b[49m\u001b[34;43m__call__\u001b[39;49m\u001b[43m(\u001b[49m\u001b[43miterable_with_config\u001b[49m\u001b[43m)\u001b[49m\n",
      "\u001b[36mFile \u001b[39m\u001b[32md:\\MachineLearning\\HandlingOutliers\\outlier-env\\Lib\\site-packages\\joblib\\parallel.py:1918\u001b[39m, in \u001b[36mParallel.__call__\u001b[39m\u001b[34m(self, iterable)\u001b[39m\n\u001b[32m   1916\u001b[39m     output = \u001b[38;5;28mself\u001b[39m._get_sequential_output(iterable)\n\u001b[32m   1917\u001b[39m     \u001b[38;5;28mnext\u001b[39m(output)\n\u001b[32m-> \u001b[39m\u001b[32m1918\u001b[39m     \u001b[38;5;28;01mreturn\u001b[39;00m output \u001b[38;5;28;01mif\u001b[39;00m \u001b[38;5;28mself\u001b[39m.return_generator \u001b[38;5;28;01melse\u001b[39;00m \u001b[38;5;28;43mlist\u001b[39;49m\u001b[43m(\u001b[49m\u001b[43moutput\u001b[49m\u001b[43m)\u001b[49m\n\u001b[32m   1920\u001b[39m \u001b[38;5;66;03m# Let's create an ID that uniquely identifies the current call. If the\u001b[39;00m\n\u001b[32m   1921\u001b[39m \u001b[38;5;66;03m# call is interrupted early and that the same instance is immediately\u001b[39;00m\n\u001b[32m   1922\u001b[39m \u001b[38;5;66;03m# re-used, this id will be used to prevent workers that were\u001b[39;00m\n\u001b[32m   1923\u001b[39m \u001b[38;5;66;03m# concurrently finalizing a task from the previous call to run the\u001b[39;00m\n\u001b[32m   1924\u001b[39m \u001b[38;5;66;03m# callback.\u001b[39;00m\n\u001b[32m   1925\u001b[39m \u001b[38;5;28;01mwith\u001b[39;00m \u001b[38;5;28mself\u001b[39m._lock:\n",
      "\u001b[36mFile \u001b[39m\u001b[32md:\\MachineLearning\\HandlingOutliers\\outlier-env\\Lib\\site-packages\\joblib\\parallel.py:1847\u001b[39m, in \u001b[36mParallel._get_sequential_output\u001b[39m\u001b[34m(self, iterable)\u001b[39m\n\u001b[32m   1845\u001b[39m \u001b[38;5;28mself\u001b[39m.n_dispatched_batches += \u001b[32m1\u001b[39m\n\u001b[32m   1846\u001b[39m \u001b[38;5;28mself\u001b[39m.n_dispatched_tasks += \u001b[32m1\u001b[39m\n\u001b[32m-> \u001b[39m\u001b[32m1847\u001b[39m res = \u001b[43mfunc\u001b[49m\u001b[43m(\u001b[49m\u001b[43m*\u001b[49m\u001b[43margs\u001b[49m\u001b[43m,\u001b[49m\u001b[43m \u001b[49m\u001b[43m*\u001b[49m\u001b[43m*\u001b[49m\u001b[43mkwargs\u001b[49m\u001b[43m)\u001b[49m\n\u001b[32m   1848\u001b[39m \u001b[38;5;28mself\u001b[39m.n_completed_tasks += \u001b[32m1\u001b[39m\n\u001b[32m   1849\u001b[39m \u001b[38;5;28mself\u001b[39m.print_progress()\n",
      "\u001b[36mFile \u001b[39m\u001b[32md:\\MachineLearning\\HandlingOutliers\\outlier-env\\Lib\\site-packages\\sklearn\\utils\\parallel.py:139\u001b[39m, in \u001b[36m_FuncWrapper.__call__\u001b[39m\u001b[34m(self, *args, **kwargs)\u001b[39m\n\u001b[32m    137\u001b[39m     config = {}\n\u001b[32m    138\u001b[39m \u001b[38;5;28;01mwith\u001b[39;00m config_context(**config):\n\u001b[32m--> \u001b[39m\u001b[32m139\u001b[39m     \u001b[38;5;28;01mreturn\u001b[39;00m \u001b[38;5;28;43mself\u001b[39;49m\u001b[43m.\u001b[49m\u001b[43mfunction\u001b[49m\u001b[43m(\u001b[49m\u001b[43m*\u001b[49m\u001b[43margs\u001b[49m\u001b[43m,\u001b[49m\u001b[43m \u001b[49m\u001b[43m*\u001b[49m\u001b[43m*\u001b[49m\u001b[43mkwargs\u001b[49m\u001b[43m)\u001b[49m\n",
      "\u001b[36mFile \u001b[39m\u001b[32md:\\MachineLearning\\HandlingOutliers\\outlier-env\\Lib\\site-packages\\sklearn\\pipeline.py:1551\u001b[39m, in \u001b[36m_fit_transform_one\u001b[39m\u001b[34m(transformer, X, y, weight, message_clsname, message, params)\u001b[39m\n\u001b[32m   1549\u001b[39m \u001b[38;5;28;01mwith\u001b[39;00m _print_elapsed_time(message_clsname, message):\n\u001b[32m   1550\u001b[39m     \u001b[38;5;28;01mif\u001b[39;00m \u001b[38;5;28mhasattr\u001b[39m(transformer, \u001b[33m\"\u001b[39m\u001b[33mfit_transform\u001b[39m\u001b[33m\"\u001b[39m):\n\u001b[32m-> \u001b[39m\u001b[32m1551\u001b[39m         res = \u001b[43mtransformer\u001b[49m\u001b[43m.\u001b[49m\u001b[43mfit_transform\u001b[49m\u001b[43m(\u001b[49m\u001b[43mX\u001b[49m\u001b[43m,\u001b[49m\u001b[43m \u001b[49m\u001b[43my\u001b[49m\u001b[43m,\u001b[49m\u001b[43m \u001b[49m\u001b[43m*\u001b[49m\u001b[43m*\u001b[49m\u001b[43mparams\u001b[49m\u001b[43m.\u001b[49m\u001b[43mget\u001b[49m\u001b[43m(\u001b[49m\u001b[33;43m\"\u001b[39;49m\u001b[33;43mfit_transform\u001b[39;49m\u001b[33;43m\"\u001b[39;49m\u001b[43m,\u001b[49m\u001b[43m \u001b[49m\u001b[43m{\u001b[49m\u001b[43m}\u001b[49m\u001b[43m)\u001b[49m\u001b[43m)\u001b[49m\n\u001b[32m   1552\u001b[39m     \u001b[38;5;28;01melse\u001b[39;00m:\n\u001b[32m   1553\u001b[39m         res = transformer.fit(X, y, **params.get(\u001b[33m\"\u001b[39m\u001b[33mfit\u001b[39m\u001b[33m\"\u001b[39m, {})).transform(\n\u001b[32m   1554\u001b[39m             X, **params.get(\u001b[33m\"\u001b[39m\u001b[33mtransform\u001b[39m\u001b[33m\"\u001b[39m, {})\n\u001b[32m   1555\u001b[39m         )\n",
      "\u001b[36mFile \u001b[39m\u001b[32md:\\MachineLearning\\HandlingOutliers\\outlier-env\\Lib\\site-packages\\sklearn\\utils\\_set_output.py:319\u001b[39m, in \u001b[36m_wrap_method_output.<locals>.wrapped\u001b[39m\u001b[34m(self, X, *args, **kwargs)\u001b[39m\n\u001b[32m    317\u001b[39m \u001b[38;5;129m@wraps\u001b[39m(f)\n\u001b[32m    318\u001b[39m \u001b[38;5;28;01mdef\u001b[39;00m\u001b[38;5;250m \u001b[39m\u001b[34mwrapped\u001b[39m(\u001b[38;5;28mself\u001b[39m, X, *args, **kwargs):\n\u001b[32m--> \u001b[39m\u001b[32m319\u001b[39m     data_to_wrap = \u001b[43mf\u001b[49m\u001b[43m(\u001b[49m\u001b[38;5;28;43mself\u001b[39;49m\u001b[43m,\u001b[49m\u001b[43m \u001b[49m\u001b[43mX\u001b[49m\u001b[43m,\u001b[49m\u001b[43m \u001b[49m\u001b[43m*\u001b[49m\u001b[43margs\u001b[49m\u001b[43m,\u001b[49m\u001b[43m \u001b[49m\u001b[43m*\u001b[49m\u001b[43m*\u001b[49m\u001b[43mkwargs\u001b[49m\u001b[43m)\u001b[49m\n\u001b[32m    320\u001b[39m     \u001b[38;5;28;01mif\u001b[39;00m \u001b[38;5;28misinstance\u001b[39m(data_to_wrap, \u001b[38;5;28mtuple\u001b[39m):\n\u001b[32m    321\u001b[39m         \u001b[38;5;66;03m# only wrap the first output for cross decomposition\u001b[39;00m\n\u001b[32m    322\u001b[39m         return_tuple = (\n\u001b[32m    323\u001b[39m             _wrap_data_with_container(method, data_to_wrap[\u001b[32m0\u001b[39m], X, \u001b[38;5;28mself\u001b[39m),\n\u001b[32m    324\u001b[39m             *data_to_wrap[\u001b[32m1\u001b[39m:],\n\u001b[32m    325\u001b[39m         )\n",
      "\u001b[36mFile \u001b[39m\u001b[32md:\\MachineLearning\\HandlingOutliers\\outlier-env\\Lib\\site-packages\\sklearn\\base.py:918\u001b[39m, in \u001b[36mTransformerMixin.fit_transform\u001b[39m\u001b[34m(self, X, y, **fit_params)\u001b[39m\n\u001b[32m    903\u001b[39m         warnings.warn(\n\u001b[32m    904\u001b[39m             (\n\u001b[32m    905\u001b[39m                 \u001b[33mf\u001b[39m\u001b[33m\"\u001b[39m\u001b[33mThis object (\u001b[39m\u001b[38;5;132;01m{\u001b[39;00m\u001b[38;5;28mself\u001b[39m.\u001b[34m__class__\u001b[39m.\u001b[34m__name__\u001b[39m\u001b[38;5;132;01m}\u001b[39;00m\u001b[33m) has a `transform`\u001b[39m\u001b[33m\"\u001b[39m\n\u001b[32m   (...)\u001b[39m\u001b[32m    913\u001b[39m             \u001b[38;5;167;01mUserWarning\u001b[39;00m,\n\u001b[32m    914\u001b[39m         )\n\u001b[32m    916\u001b[39m \u001b[38;5;28;01mif\u001b[39;00m y \u001b[38;5;129;01mis\u001b[39;00m \u001b[38;5;28;01mNone\u001b[39;00m:\n\u001b[32m    917\u001b[39m     \u001b[38;5;66;03m# fit method of arity 1 (unsupervised transformation)\u001b[39;00m\n\u001b[32m--> \u001b[39m\u001b[32m918\u001b[39m     \u001b[38;5;28;01mreturn\u001b[39;00m \u001b[38;5;28;43mself\u001b[39;49m\u001b[43m.\u001b[49m\u001b[43mfit\u001b[49m\u001b[43m(\u001b[49m\u001b[43mX\u001b[49m\u001b[43m,\u001b[49m\u001b[43m \u001b[49m\u001b[43m*\u001b[49m\u001b[43m*\u001b[49m\u001b[43mfit_params\u001b[49m\u001b[43m)\u001b[49m.transform(X)\n\u001b[32m    919\u001b[39m \u001b[38;5;28;01melse\u001b[39;00m:\n\u001b[32m    920\u001b[39m     \u001b[38;5;66;03m# fit method of arity 2 (supervised transformation)\u001b[39;00m\n\u001b[32m    921\u001b[39m     \u001b[38;5;28;01mreturn\u001b[39;00m \u001b[38;5;28mself\u001b[39m.fit(X, y, **fit_params).transform(X)\n",
      "\u001b[36mFile \u001b[39m\u001b[32md:\\MachineLearning\\HandlingOutliers\\outlier-env\\Lib\\site-packages\\sklearn\\base.py:1389\u001b[39m, in \u001b[36m_fit_context.<locals>.decorator.<locals>.wrapper\u001b[39m\u001b[34m(estimator, *args, **kwargs)\u001b[39m\n\u001b[32m   1382\u001b[39m     estimator._validate_params()\n\u001b[32m   1384\u001b[39m \u001b[38;5;28;01mwith\u001b[39;00m config_context(\n\u001b[32m   1385\u001b[39m     skip_parameter_validation=(\n\u001b[32m   1386\u001b[39m         prefer_skip_nested_validation \u001b[38;5;129;01mor\u001b[39;00m global_skip_validation\n\u001b[32m   1387\u001b[39m     )\n\u001b[32m   1388\u001b[39m ):\n\u001b[32m-> \u001b[39m\u001b[32m1389\u001b[39m     \u001b[38;5;28;01mreturn\u001b[39;00m \u001b[43mfit_method\u001b[49m\u001b[43m(\u001b[49m\u001b[43mestimator\u001b[49m\u001b[43m,\u001b[49m\u001b[43m \u001b[49m\u001b[43m*\u001b[49m\u001b[43margs\u001b[49m\u001b[43m,\u001b[49m\u001b[43m \u001b[49m\u001b[43m*\u001b[49m\u001b[43m*\u001b[49m\u001b[43mkwargs\u001b[49m\u001b[43m)\u001b[49m\n",
      "\u001b[36mFile \u001b[39m\u001b[32md:\\MachineLearning\\HandlingOutliers\\outlier-env\\Lib\\site-packages\\sklearn\\preprocessing\\_encoders.py:1515\u001b[39m, in \u001b[36mOrdinalEncoder.fit\u001b[39m\u001b[34m(self, X, y)\u001b[39m\n\u001b[32m   1508\u001b[39m     \u001b[38;5;28;01mraise\u001b[39;00m \u001b[38;5;167;01mTypeError\u001b[39;00m(\n\u001b[32m   1509\u001b[39m         \u001b[33m\"\u001b[39m\u001b[33munknown_value should only be set when \u001b[39m\u001b[33m\"\u001b[39m\n\u001b[32m   1510\u001b[39m         \u001b[33m\"\u001b[39m\u001b[33mhandle_unknown is \u001b[39m\u001b[33m'\u001b[39m\u001b[33muse_encoded_value\u001b[39m\u001b[33m'\u001b[39m\u001b[33m, \u001b[39m\u001b[33m\"\u001b[39m\n\u001b[32m   1511\u001b[39m         \u001b[33mf\u001b[39m\u001b[33m\"\u001b[39m\u001b[33mgot \u001b[39m\u001b[38;5;132;01m{\u001b[39;00m\u001b[38;5;28mself\u001b[39m.unknown_value\u001b[38;5;132;01m}\u001b[39;00m\u001b[33m.\u001b[39m\u001b[33m\"\u001b[39m\n\u001b[32m   1512\u001b[39m     )\n\u001b[32m   1514\u001b[39m \u001b[38;5;66;03m# `_fit` will only raise an error when `self.handle_unknown=\"error\"`\u001b[39;00m\n\u001b[32m-> \u001b[39m\u001b[32m1515\u001b[39m fit_results = \u001b[38;5;28;43mself\u001b[39;49m\u001b[43m.\u001b[49m\u001b[43m_fit\u001b[49m\u001b[43m(\u001b[49m\n\u001b[32m   1516\u001b[39m \u001b[43m    \u001b[49m\u001b[43mX\u001b[49m\u001b[43m,\u001b[49m\n\u001b[32m   1517\u001b[39m \u001b[43m    \u001b[49m\u001b[43mhandle_unknown\u001b[49m\u001b[43m=\u001b[49m\u001b[38;5;28;43mself\u001b[39;49m\u001b[43m.\u001b[49m\u001b[43mhandle_unknown\u001b[49m\u001b[43m,\u001b[49m\n\u001b[32m   1518\u001b[39m \u001b[43m    \u001b[49m\u001b[43mensure_all_finite\u001b[49m\u001b[43m=\u001b[49m\u001b[33;43m\"\u001b[39;49m\u001b[33;43mallow-nan\u001b[39;49m\u001b[33;43m\"\u001b[39;49m\u001b[43m,\u001b[49m\n\u001b[32m   1519\u001b[39m \u001b[43m    \u001b[49m\u001b[43mreturn_and_ignore_missing_for_infrequent\u001b[49m\u001b[43m=\u001b[49m\u001b[38;5;28;43;01mTrue\u001b[39;49;00m\u001b[43m,\u001b[49m\n\u001b[32m   1520\u001b[39m \u001b[43m\u001b[49m\u001b[43m)\u001b[49m\n\u001b[32m   1521\u001b[39m \u001b[38;5;28mself\u001b[39m._missing_indices = fit_results[\u001b[33m\"\u001b[39m\u001b[33mmissing_indices\u001b[39m\u001b[33m\"\u001b[39m]\n\u001b[32m   1523\u001b[39m cardinalities = [\u001b[38;5;28mlen\u001b[39m(categories) \u001b[38;5;28;01mfor\u001b[39;00m categories \u001b[38;5;129;01min\u001b[39;00m \u001b[38;5;28mself\u001b[39m.categories_]\n",
      "\u001b[36mFile \u001b[39m\u001b[32md:\\MachineLearning\\HandlingOutliers\\outlier-env\\Lib\\site-packages\\sklearn\\preprocessing\\_encoders.py:118\u001b[39m, in \u001b[36m_BaseEncoder._fit\u001b[39m\u001b[34m(self, X, handle_unknown, ensure_all_finite, return_counts, return_and_ignore_missing_for_infrequent)\u001b[39m\n\u001b[32m    115\u001b[39m \u001b[38;5;28;01melse\u001b[39;00m:\n\u001b[32m    116\u001b[39m     Xi_dtype = Xi.dtype\n\u001b[32m--> \u001b[39m\u001b[32m118\u001b[39m cats = \u001b[43mnp\u001b[49m\u001b[43m.\u001b[49m\u001b[43marray\u001b[49m\u001b[43m(\u001b[49m\u001b[38;5;28;43mself\u001b[39;49m\u001b[43m.\u001b[49m\u001b[43mcategories\u001b[49m\u001b[43m[\u001b[49m\u001b[43mi\u001b[49m\u001b[43m]\u001b[49m\u001b[43m,\u001b[49m\u001b[43m \u001b[49m\u001b[43mdtype\u001b[49m\u001b[43m=\u001b[49m\u001b[43mXi_dtype\u001b[49m\u001b[43m)\u001b[49m\n\u001b[32m    119\u001b[39m \u001b[38;5;28;01mif\u001b[39;00m (\n\u001b[32m    120\u001b[39m     cats.dtype == \u001b[38;5;28mobject\u001b[39m\n\u001b[32m    121\u001b[39m     \u001b[38;5;129;01mand\u001b[39;00m \u001b[38;5;28misinstance\u001b[39m(cats[\u001b[32m0\u001b[39m], \u001b[38;5;28mbytes\u001b[39m)\n\u001b[32m    122\u001b[39m     \u001b[38;5;129;01mand\u001b[39;00m Xi.dtype.kind != \u001b[33m\"\u001b[39m\u001b[33mS\u001b[39m\u001b[33m\"\u001b[39m\n\u001b[32m    123\u001b[39m ):\n\u001b[32m    124\u001b[39m     msg = (\n\u001b[32m    125\u001b[39m         \u001b[33mf\u001b[39m\u001b[33m\"\u001b[39m\u001b[33mIn column \u001b[39m\u001b[38;5;132;01m{\u001b[39;00mi\u001b[38;5;132;01m}\u001b[39;00m\u001b[33m, the predefined categories have type \u001b[39m\u001b[33m'\u001b[39m\u001b[33mbytes\u001b[39m\u001b[33m'\u001b[39m\u001b[33m\"\u001b[39m\n\u001b[32m    126\u001b[39m         \u001b[33m\"\u001b[39m\u001b[33m which is incompatible with values of type\u001b[39m\u001b[33m\"\u001b[39m\n\u001b[32m    127\u001b[39m         \u001b[33mf\u001b[39m\u001b[33m\"\u001b[39m\u001b[33m \u001b[39m\u001b[33m'\u001b[39m\u001b[38;5;132;01m{\u001b[39;00m\u001b[38;5;28mtype\u001b[39m(Xi[\u001b[32m0\u001b[39m]).\u001b[34m__name__\u001b[39m\u001b[38;5;132;01m}\u001b[39;00m\u001b[33m'\u001b[39m\u001b[33m.\u001b[39m\u001b[33m\"\u001b[39m\n\u001b[32m    128\u001b[39m     )\n",
      "\u001b[31mValueError\u001b[39m: invalid literal for int() with base 10: 'large'"
     ]
    }
   ],
   "source": [
    "x_train_new = preprocessing.fit_transform(x_train)"
   ]
  },
  {
   "cell_type": "code",
   "execution_count": null,
   "metadata": {},
   "outputs": [
    {
     "data": {
      "text/plain": [
       "array([['0.1494915773047331', 'alone'],\n",
       "       ['0.4621440768444548', 'alone'],\n",
       "       ['-0.05894342238841471', 'alone'],\n",
       "       ...,\n",
       "       ['1.3306232422325706', 'alone'],\n",
       "       ['1.955928241312014', 'alone'],\n",
       "       ['1.0527099093083736', 'alone']], shape=(571, 2), dtype='<U32')"
      ]
     },
     "execution_count": 31,
     "metadata": {},
     "output_type": "execute_result"
    }
   ],
   "source": [
    "x_train_new"
   ]
  },
  {
   "cell_type": "code",
   "execution_count": null,
   "metadata": {},
   "outputs": [],
   "source": [
    "trf_3 = ColumnTransformer([('Ordinal_encoding', OrdinalEncoder(categories=[['large', 'small', 'alone']]), [1])], remainder='passthrough')\n"
   ]
  },
  {
   "cell_type": "code",
   "execution_count": null,
   "metadata": {},
   "outputs": [
    {
     "data": {
      "text/plain": [
       "array([['0.1494915773047331', 'alone'],\n",
       "       ['0.4621440768444548', 'alone'],\n",
       "       ['-0.05894342238841471', 'alone'],\n",
       "       ...,\n",
       "       ['1.3306232422325706', 'alone'],\n",
       "       ['1.955928241312014', 'alone'],\n",
       "       ['1.0527099093083736', 'alone']], shape=(571, 2), dtype='<U32')"
      ]
     },
     "execution_count": 36,
     "metadata": {},
     "output_type": "execute_result"
    }
   ],
   "source": [
    "x_train_new"
   ]
  },
  {
   "cell_type": "code",
   "execution_count": null,
   "metadata": {},
   "outputs": [],
   "source": [
    "x_train_new = trf_3.fit_transform(x_train_new)"
   ]
  },
  {
   "cell_type": "code",
   "execution_count": null,
   "metadata": {},
   "outputs": [
    {
     "data": {
      "text/plain": [
       "array([['2.0', '0.1494915773047331'],\n",
       "       ['2.0', '0.4621440768444548'],\n",
       "       ['2.0', '-0.05894342238841471'],\n",
       "       ...,\n",
       "       ['2.0', '1.3306232422325706'],\n",
       "       ['2.0', '1.955928241312014'],\n",
       "       ['2.0', '1.0527099093083736']], shape=(571, 2), dtype='<U32')"
      ]
     },
     "execution_count": 38,
     "metadata": {},
     "output_type": "execute_result"
    }
   ],
   "source": [
    "x_train_new"
   ]
  },
  {
   "cell_type": "code",
   "execution_count": null,
   "metadata": {},
   "outputs": [],
   "source": [
    "trf_4 = ColumnTransformer([\n",
    "    ('predict',LogisticRegression())\n",
    "])\n"
   ]
  },
  {
   "cell_type": "code",
   "execution_count": null,
   "metadata": {},
   "outputs": [],
   "source": [
    "pipe = Pipeline(steps=[\n",
    "    ('scaling',trf_1),\n",
    "    ('categorize',trf_2),\n",
    "    ('encode',trf_3),\n",
    "    ('predict',trf_4)\n",
    "])"
   ]
  },
  {
   "cell_type": "code",
   "execution_count": null,
   "metadata": {},
   "outputs": [],
   "source": [
    "pipe"
   ]
  },
  {
   "cell_type": "code",
   "execution_count": null,
   "metadata": {},
   "outputs": [],
   "source": [
    "x_train.dtypes"
   ]
  },
  {
   "cell_type": "code",
   "execution_count": null,
   "metadata": {},
   "outputs": [],
   "source": [
    "y_test.dtype"
   ]
  },
  {
   "cell_type": "code",
   "execution_count": null,
   "metadata": {},
   "outputs": [],
   "source": [
    "clf = pipe.fit(x_train,y_train)"
   ]
  },
  {
   "cell_type": "code",
   "execution_count": null,
   "metadata": {},
   "outputs": [],
   "source": []
  }
 ],
 "metadata": {
  "kernelspec": {
   "display_name": "outlier-env",
   "language": "python",
   "name": "python3"
  },
  "language_info": {
   "codemirror_mode": {
    "name": "ipython",
    "version": 3
   },
   "file_extension": ".py",
   "mimetype": "text/x-python",
   "name": "python",
   "nbconvert_exporter": "python",
   "pygments_lexer": "ipython3",
   "version": "3.12.2"
  }
 },
 "nbformat": 4,
 "nbformat_minor": 2
}
